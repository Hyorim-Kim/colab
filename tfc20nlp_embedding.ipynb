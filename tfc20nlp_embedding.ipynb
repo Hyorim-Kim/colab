{
  "nbformat": 4,
  "nbformat_minor": 0,
  "metadata": {
    "colab": {
      "provenance": [],
      "authorship_tag": "ABX9TyMJ4thxf4N5Knpa+Yz8ZqOz",
      "include_colab_link": true
    },
    "kernelspec": {
      "name": "python3",
      "display_name": "Python 3"
    },
    "language_info": {
      "name": "python"
    }
  },
  "cells": [
    {
      "cell_type": "markdown",
      "metadata": {
        "id": "view-in-github",
        "colab_type": "text"
      },
      "source": [
        "<a href=\"https://colab.research.google.com/github/Hyorim-Kim/numpi/blob/main/tfc20nlp_embedding.ipynb\" target=\"_parent\"><img src=\"https://colab.research.google.com/assets/colab-badge.svg\" alt=\"Open In Colab\"/></a>"
      ]
    },
    {
      "cell_type": "code",
      "execution_count": 23,
      "metadata": {
        "colab": {
          "base_uri": "https://localhost:8080/"
        },
        "id": "dbcIZxnq6TML",
        "outputId": "a8c5acea-a014-4e20-9d37-965f3c099048"
      },
      "outputs": [
        {
          "output_type": "stream",
          "name": "stdout",
          "text": [
            "데이터 인코딩\n",
            "['computer', 'lan', 'program', 'python', 'say']\n",
            "[0, 1, 2, 3, 4] <class 'list'>\n",
            "one-hot encoding\n",
            "[[1. 0. 0. 0. 0.]\n",
            " [0. 1. 0. 0. 0.]\n",
            " [0. 0. 1. 0. 0.]\n",
            " [0. 0. 0. 1. 0.]\n",
            " [0. 0. 0. 0. 1.]] <class 'numpy.ndarray'>\n",
            "인코딩 지원 클래스\n",
            "[3 1 2 0 4] <class 'numpy.ndarray'> [0 1 2 3 4]\n",
            "원핫 인코딩 지원 클래스\n",
            "[[3]\n",
            " [1]\n",
            " [2]\n",
            " [0]\n",
            " [4]] (5, 1)\n",
            "[[0. 0. 0. 1. 0.]\n",
            " [0. 1. 0. 0. 0.]\n",
            " [0. 0. 1. 0. 0.]\n",
            " [1. 0. 0. 0. 0.]\n",
            " [0. 0. 0. 0. 1.]]\n"
          ]
        }
      ],
      "source": [
        "# word embedding : 단어를 벡터로 표현하는 방식 중 하나. 희소표현과 밀집표현 등이 있다.\n",
        "# 비정형화된 데이터를 숫자로 바꿔서 컴퓨터가 이해하는 형태로 번역하는 작업\n",
        "\n",
        "import numpy as np\n",
        "\n",
        "# 데이터 인코딩\n",
        "print('데이터 인코딩')\n",
        "datas = ['python', 'lan', 'program', 'computer', 'say']\n",
        "datas.sort()  # 데이터 원본을 정렬\n",
        "print(datas)\n",
        "# for 사용\n",
        "values = []\n",
        "for x in range(len(datas)):\n",
        "  values.append(x)\n",
        "\n",
        "print(values, type(values))\n",
        "\n",
        "print('one-hot encoding')\n",
        "onehot = np.eye(len(values))\n",
        "print(onehot, type(onehot))\n",
        "\n",
        "print('인코딩 지원 클래스')\n",
        "from sklearn.preprocessing import LabelEncoder\n",
        "datas = ['python', 'lan', 'program', 'computer', 'say']\n",
        "encoder = LabelEncoder().fit(datas)\n",
        "values = encoder.transform(datas)\n",
        "print(values, type(values), np.sort(values))\n",
        "\n",
        "print('원핫 인코딩 지원 클래스')\n",
        "from sklearn.preprocessing import OneHotEncoder\n",
        "labels = values.reshape(-1, 1)\n",
        "print(labels, labels.shape)\n",
        "onehot = OneHotEncoder().fit(labels)\n",
        "onehotValues = onehot.transform(labels)\n",
        "print(onehotValues.toarray())\n"
      ]
    },
    {
      "cell_type": "code",
      "source": [
        "from gensim.models import word2vec # 단어의 의미를 다차원 공간에 실수로 벡터화하는 분산표현 기법. 단어 간 유사성 표현\n",
        "sentence =[['python', 'lan', 'program', 'computer','say']]\n",
        "model = word2vec.Word2Vec(sentence, vector_size=50, min_count=1, sg=0)  #CBOW, SKip-gram\n",
        "print(model)\n",
        "word_vectors = model.wv # 단어 벡터를 생성 (백터:일차원 배열)\n",
        "print('word_vectors : ',word_vectors)\n",
        "print(word_vectors.key_to_index)\n",
        "print(word_vectors.key_to_index.keys())\n",
        "print(word_vectors.key_to_index.values())\n",
        "vocabs = word_vectors.key_to_index.keys()\n",
        "word_vectors_list = [word_vectors[v] for v in vocabs]\n",
        "print(word_vectors_list[0], len(word_vectors_list[0]))\n",
        "\n",
        "print(word_vectors.similarity(w1='python', w2='computer'))  # 두 단어의 유사도를 코사인값으로 표현. 코사인 유사도를 이용\n",
        "print(word_vectors.similarity(w1='python', w2='say'))\n",
        "print(word_vectors.most_similar(positive='computer'))\n",
        "\n",
        "# 시각화\n",
        "import matplotlib.pyplot as plt\n",
        "def plotFunc(vocabs, x, y):\n",
        "  plt.figure(figsize=(6,6))\n",
        "  plt.scatter(x,y)\n",
        "  for i, v in enumerate(vocabs):\n",
        "    plt.annotate(v, xy=(x[i], y[i]))\n",
        "\n",
        "from sklearn.decomposition import PCA\n",
        "pca = PCA(n_components=2)\n",
        "xys = pca.fit_transform(word_vectors_list)\n",
        "xs = xys[:,0]\n",
        "ys = xys[:,1]\n",
        "plotFunc(vocabs, xs, ys)\n",
        "plt.show()\n"
      ],
      "metadata": {
        "colab": {
          "base_uri": "https://localhost:8080/",
          "height": 920
        },
        "id": "R2yTH6r_Byhw",
        "outputId": "7b9e3576-c57b-4cf0-8228-76470ac76ac1"
      },
      "execution_count": 25,
      "outputs": [
        {
          "output_type": "stream",
          "name": "stdout",
          "text": [
            "Word2Vec<vocab=5, vector_size=50, alpha=0.025>\n",
            "word_vectors :  KeyedVectors<vector_size=50, 5 keys>\n",
            "{'say': 0, 'computer': 1, 'program': 2, 'lan': 3, 'python': 4}\n",
            "dict_keys(['say', 'computer', 'program', 'lan', 'python'])\n",
            "dict_values([0, 1, 2, 3, 4])\n",
            "[-1.0724545e-03  4.7286271e-04  1.0206699e-02  1.8018546e-02\n",
            " -1.8605899e-02 -1.4233618e-02  1.2917745e-02  1.7945977e-02\n",
            " -1.0030856e-02 -7.5267432e-03  1.4761009e-02 -3.0669428e-03\n",
            " -9.0732267e-03  1.3108104e-02 -9.7203208e-03 -3.6320353e-03\n",
            "  5.7531595e-03  1.9837476e-03 -1.6570430e-02 -1.8897636e-02\n",
            "  1.4623532e-02  1.0140524e-02  1.3515387e-02  1.5257311e-03\n",
            "  1.2701781e-02 -6.8107317e-03 -1.8928028e-03  1.1537147e-02\n",
            " -1.5043275e-02 -7.8722071e-03 -1.5023164e-02 -1.8600845e-03\n",
            "  1.9076237e-02 -1.4638334e-02 -4.6675373e-03 -3.8754821e-03\n",
            "  1.6154874e-02 -1.1861792e-02  9.0324880e-05 -9.5074680e-03\n",
            " -1.9207101e-02  1.0014586e-02 -1.7519170e-02 -8.7836506e-03\n",
            " -7.0199967e-05 -5.9236289e-04 -1.5322480e-02  1.9229487e-02\n",
            "  9.9641159e-03  1.8466286e-02] 50\n",
            "0.124862544\n",
            "-0.11821282\n",
            "[('python', 0.12486252933740616), ('say', 0.04237300902605057), ('program', 0.011071980930864811), ('lan', -0.17424818873405457)]\n"
          ]
        },
        {
          "output_type": "display_data",
          "data": {
            "text/plain": [
              "<Figure size 600x600 with 1 Axes>"
            ],
            "image/png": "[encoded data removed]"
          },
          "metadata": {}
        }
      ]
    }
  ]
}