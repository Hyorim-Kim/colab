{
  "nbformat": 4,
  "nbformat_minor": 0,
  "metadata": {
    "colab": {
      "provenance": [],
      "authorship_tag": "ABX9TyPzRwvOzAY+7tXyVH5Qg2sK",
      "include_colab_link": true
    },
    "kernelspec": {
      "name": "python3",
      "display_name": "Python 3"
    },
    "language_info": {
      "name": "python"
    }
  },
  "cells": [
    {
      "cell_type": "markdown",
      "metadata": {
        "id": "view-in-github",
        "colab_type": "text"
      },
      "source": [
        "<a href=\"https://colab.research.google.com/github/Hyorim-Kim/colab/blob/main/tfc42.ipynb\" target=\"_parent\"><img src=\"https://colab.research.google.com/assets/colab-badge.svg\" alt=\"Open In Colab\"/></a>"
      ]
    },
    {
      "cell_type": "code",
      "execution_count": 1,
      "metadata": {
        "colab": {
          "base_uri": "https://localhost:8080/"
        },
        "id": "LCkAtq7n84x6",
        "outputId": "8670354c-cd68-4702-829b-33d94bfb94fa"
      },
      "outputs": [
        {
          "output_type": "stream",
          "name": "stdout",
          "text": [
            "Model: \"model\"\n",
            "_________________________________________________________________\n",
            " Layer (type)                Output Shape              Param #   \n",
            "=================================================================\n",
            " input_1 (InputLayer)        [(None, None)]            0         \n",
            "                                                                 \n",
            " embedding (Embedding)       (None, None, 128)         2560000   \n",
            "                                                                 \n",
            " bidirectional (Bidirection  (None, None, 128)         98816     \n",
            " al)                                                             \n",
            "                                                                 \n",
            " bidirectional_1 (Bidirecti  (None, 128)               98816     \n",
            " onal)                                                           \n",
            "                                                                 \n",
            " dense (Dense)               (None, 1)                 129       \n",
            "                                                                 \n",
            "=================================================================\n",
            "Total params: 2757761 (10.52 MB)\n",
            "Trainable params: 2757761 (10.52 MB)\n",
            "Non-trainable params: 0 (0.00 Byte)\n",
            "_________________________________________________________________\n",
            "None\n",
            "Downloading data from https://storage.googleapis.com/tensorflow/tf-keras-datasets/imdb.npz\n",
            "17464789/17464789 [==============================] - 0s 0us/step\n",
            "25000 Training sequences\n",
            "25000 Validation sequences\n",
            "Model: \"model\"\n",
            "_________________________________________________________________\n",
            " Layer (type)                Output Shape              Param #   \n",
            "=================================================================\n",
            " input_1 (InputLayer)        [(None, None)]            0         \n",
            "                                                                 \n",
            " embedding (Embedding)       (None, None, 128)         2560000   \n",
            "                                                                 \n",
            " bidirectional (Bidirection  (None, None, 128)         98816     \n",
            " al)                                                             \n",
            "                                                                 \n",
            " bidirectional_1 (Bidirecti  (None, 128)               98816     \n",
            " onal)                                                           \n",
            "                                                                 \n",
            " dense (Dense)               (None, 1)                 129       \n",
            "                                                                 \n",
            "=================================================================\n",
            "Total params: 2757761 (10.52 MB)\n",
            "Trainable params: 2757761 (10.52 MB)\n",
            "Non-trainable params: 0 (0.00 Byte)\n",
            "_________________________________________________________________\n",
            "None\n",
            "Epoch 1/2\n",
            "782/782 - 577s - loss: 0.3768 - acc: 0.8293 - val_loss: 0.3480 - val_acc: 0.8544 - 577s/epoch - 738ms/step\n",
            "Epoch 2/2\n",
            "782/782 - 551s - loss: 0.1990 - acc: 0.9269 - val_loss: 0.4173 - val_acc: 0.8602 - 551s/epoch - 704ms/step\n",
            "{'loss': [0.3768223524093628, 0.19896340370178223], 'acc': [0.8292800188064575, 0.9268800020217896], 'val_loss': [0.3480392098426819, 0.41726797819137573], 'val_acc': [0.8544399738311768, 0.8601599931716919]}\n"
          ]
        }
      ],
      "source": [
        "# --- Bidirectional LSTM on IMDB ---\n",
        "\n",
        "import numpy as np\n",
        "from tensorflow import keras\n",
        "from keras import layers\n",
        "\n",
        "\n",
        "max_features = 20000  # 상위 20000개 단어만을 사용하겠다.\n",
        "maxlen = 200             # 영화 리뷰 중 처음 200 단어까지만 사용.\n",
        "\n",
        "# Build the model : 가변 길이의 정수형 시퀀스를 input으로 사용.\n",
        "inputs = keras.Input(shape=(None, ), dtype=\"int32\")\n",
        "x = layers.Embedding(max_features, 128)(inputs)  # 각 정수형 시퀀스를 128차원으로 임베딩 처리함.\n",
        "\n",
        "# Bidirectional LSTM layer를 두 번 사용.\n",
        "x = layers.Bidirectional(layers.LSTM(64, return_sequences=True))(x)\n",
        "x = layers.Bidirectional(layers.LSTM(64))(x)\n",
        "outputs = layers.Dense(1, activation=\"sigmoid\")(x)  # 이진 분류\n",
        "model = keras.Model(inputs, outputs)\n",
        "print(model.summary())\n",
        "\n",
        "# IMDB 영화 리뷰 감정 데이터 로딩\n",
        "(x_train, y_train), (x_val, y_val) = keras.datasets.imdb.load_data(num_words=max_features)\n",
        "print(len(x_train), \"Training sequences\")\n",
        "print(len(x_val), \"Validation sequences\")\n",
        "\n",
        "# pad_sequences\n",
        "x_train = keras.preprocessing.sequence.pad_sequences(x_train, maxlen=maxlen)\n",
        "x_val = keras.preprocessing.sequence.pad_sequences(x_val, maxlen=maxlen)\n",
        "\n",
        "# Train and evaluate the model\n",
        "model.compile(optimizer='adam', loss='binary_crossentropy', metrics=['acc'])\n",
        "# print(model.summary())\n",
        "\n",
        "history = model.fit(x_train, y_train, batch_size=32, epochs=2, validation_data=(x_val, y_val), verbose=2)\n",
        "print(history.history)"
      ]
    }
  ]
}