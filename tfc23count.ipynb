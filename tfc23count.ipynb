{
  "nbformat": 4,
  "nbformat_minor": 0,
  "metadata": {
    "colab": {
      "provenance": [],
      "authorship_tag": "ABX9TyOFoWWblALqrTIryR/OByLS",
      "include_colab_link": true
    },
    "kernelspec": {
      "name": "python3",
      "display_name": "Python 3"
    },
    "language_info": {
      "name": "python"
    }
  },
  "cells": [
    {
      "cell_type": "markdown",
      "metadata": {
        "id": "view-in-github",
        "colab_type": "text"
      },
      "source": [
        "<a href=\"https://colab.research.google.com/github/Hyorim-Kim/numpi/blob/main/tfc23count.ipynb\" target=\"_parent\"><img src=\"https://colab.research.google.com/assets/colab-badge.svg\" alt=\"Open In Colab\"/></a>"
      ]
    },
    {
      "cell_type": "code",
      "execution_count": 7,
      "metadata": {
        "colab": {
          "base_uri": "https://localhost:8080/"
        },
        "id": "3uhj_QOYF44u",
        "outputId": "9e0d1882-edb0-418d-c380-0b955c6eda4d"
      },
      "outputs": [
        {
          "output_type": "stream",
          "name": "stdout",
          "text": [
            "CountVectorizer()\n",
            "  (0, 3)\t1\n",
            "  (0, 6)\t1\n",
            "  (0, 1)\t1\n",
            "  (0, 4)\t1\n",
            "  (0, 2)\t1\n",
            "  (0, 0)\t1\n",
            "  (1, 1)\t2\n",
            "  (1, 2)\t1\n",
            "  (1, 0)\t1\n",
            "  (1, 5)\t1\n",
            "['disk' 'format' 'hard' 'how' 'my' 'problems' 'to']\n",
            "[[1 1 1 1 1 0 1]\n",
            " [1 2 1 0 0 1 0]]\n",
            "['How to format my hard disk', 'Hard disk format format problems']\n"
          ]
        }
      ],
      "source": [
        "# 단어의 빈도수로 자연어 특징 추출\n",
        "# CountVectorizer: 문서 집합에서 단어 토큰을 생성하고 각 단어의 수를 세어 BOW 인코딩 벡터를 만든다.\n",
        "# TfidfVectorizer: CountVectorizer와 비슷하지만 TF-IDF 방식으로 단어의 가중치를 조정한 BOW 인코딩 벡터를 만든다.\n",
        "\n",
        "from sklearn.feature_extraction.text import CountVectorizer, TfidfVectorizer\n",
        "\n",
        "# CountVectorizer : 단순한 특징으로 corpus에서 단위별 등장회수를 counting하여 수치벡터(BOW)화 함\n",
        "# 단위는 임의적, 단어, 글자, 자소, 문서, 문장...\n",
        "content = ['How to format my hard disk', 'Hard disk format format problems']\n",
        "\n",
        "count_vec = CountVectorizer(analyzer='word', min_df=1)\n",
        "print(count_vec)\n",
        "\n",
        "tran = count_vec.fit_transform(raw_documents=content)\n",
        "print(tran)\n",
        "print(count_vec.get_feature_names_out())  # BOW vector\n",
        "# ['disk' 'format' 'hard' 'how' 'my' 'problems' 'to']\n",
        "#     0          1          2       3       4           5           6\n",
        "print(tran.toarray())\n",
        "print(content)\n",
        "# Bag of Words(BOW) 장단점\n",
        "# 장점 : 쉽고 빠른 구축, 문서의 특징을 잘 나타내어 여러 분야에서 활용도가 높음\n",
        "# 단점 :  문맥 의미 반영 문제, 희소 행렬 문제\n"
      ]
    },
    {
      "cell_type": "code",
      "source": [
        "# TfidfVectorizer : CountVectorizer의 단점을 해결하기 위한 기법\n",
        "# 특정 문서 내에서 특정 단어의 빈도인 TF(Term Frequecy) 와, 전체 문서 내에서 특정 단어의 빈도인 DF(Document Frequency)의 역수를 활용하여\n",
        "# 어떠한 단어가 얼마나 중요한지를 나타낸 통계적 수치!\n",
        "# 문서에서 자주 나오는 단어에 높은 가중치를 주되, 모든 문서에서 자주 나타나는 단어에 대해서는 패널티를 주는 방식으로 값 부여\n",
        "tfidf_vec = TfidfVectorizer(analyzer='word', min_df=1)\n",
        "tran_idf = tfidf_vec.fit_transform(raw_documents=content)\n",
        "print(tran_idf)\n",
        "print(tfidf_vec.get_feature_names_out())  # 건수가 아니라 건수에 대한 확률값을 출력\n",
        "print(tran_idf.toarray())\n"
      ],
      "metadata": {
        "colab": {
          "base_uri": "https://localhost:8080/"
        },
        "id": "TX1LaSPqLcKk",
        "outputId": "09042258-928f-418c-f851-d1d5beb75223"
      },
      "execution_count": 8,
      "outputs": [
        {
          "output_type": "stream",
          "name": "stdout",
          "text": [
            "  (0, 0)\t0.3347122780719073\n",
            "  (0, 2)\t0.3347122780719073\n",
            "  (0, 4)\t0.4704264280854632\n",
            "  (0, 1)\t0.3347122780719073\n",
            "  (0, 6)\t0.4704264280854632\n",
            "  (0, 3)\t0.4704264280854632\n",
            "  (1, 5)\t0.4976748316029239\n",
            "  (1, 0)\t0.3540997415957358\n",
            "  (1, 2)\t0.3540997415957358\n",
            "  (1, 1)\t0.7081994831914716\n",
            "['disk' 'format' 'hard' 'how' 'my' 'problems' 'to']\n",
            "[[0.33471228 0.33471228 0.33471228 0.47042643 0.47042643 0.\n",
            "  0.47042643]\n",
            " [0.35409974 0.70819948 0.35409974 0.         0.         0.49767483\n",
            "  0.        ]]\n"
          ]
        }
      ]
    }
  ]
}