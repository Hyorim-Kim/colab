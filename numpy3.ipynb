{
  "nbformat": 4,
  "nbformat_minor": 0,
  "metadata": {
    "colab": {
      "provenance": [],
      "authorship_tag": "ABX9TyM2ZKGfxcX0wVkVzuFgxe2G",
      "include_colab_link": true
    },
    "kernelspec": {
      "name": "python3",
      "display_name": "Python 3"
    },
    "language_info": {
      "name": "python"
    }
  },
  "cells": [
    {
      "cell_type": "markdown",
      "metadata": {
        "id": "view-in-github",
        "colab_type": "text"
      },
      "source": [
        "<a href=\"https://colab.research.google.com/github/Hyorim-Kim/numpi/blob/main/numpy3.ipynb\" target=\"_parent\"><img src=\"https://colab.research.google.com/assets/colab-badge.svg\" alt=\"Open In Colab\"/></a>"
      ]
    },
    {
      "cell_type": "code",
      "execution_count": 8,
      "metadata": {
        "colab": {
          "base_uri": "https://localhost:8080/"
        },
        "id": "Ge3S_MVqRMOb",
        "outputId": "6f73fb3a-2dfe-4907-f0f8-0525f4f61638"
      },
      "outputs": [
        {
          "output_type": "stream",
          "name": "stdout",
          "text": [
            "[[1. 0. 0.]\n",
            " [0. 1. 0.]\n",
            " [0. 0. 1.]]\n",
            "[[1. 0. 0. 0.]\n",
            " [0. 1. 0. 0.]\n",
            " [0. 0. 1. 1.]]\n",
            "[[1. 0. 0.]\n",
            " [0. 1. 0.]\n",
            " [0. 0. 1.]\n",
            " [0. 0. 1.]]\n",
            "열 삽입을 이용해 행을 열로 변환 가능\n",
            "[[1]\n",
            " [2]\n",
            " [3]]\n",
            "[[1]\n",
            " [2]\n",
            " [3]]\n"
          ]
        }
      ],
      "source": [
        "# 배열의 행 또는 열  추가, 삭제\n",
        "import numpy as np\n",
        "\n",
        "aa = np.eye(3)  # 3, 3 단위행렬 생성\n",
        "print(aa)\n",
        "\n",
        "bb = np.c_[aa, aa[2]]  # 2번째 열 추가\n",
        "print(bb)\n",
        "\n",
        "cc = np.r_[aa, [aa[2]]]  # 2번째 행 추가\n",
        "print(cc)\n",
        "\n",
        "print('열 삽입을 이용해 행을 열로 변환 가능')\n",
        "a = np.array([1,2,3])  # 1행 3열을\n",
        "print(np.c_[a])  # 3행 1열로\n",
        "print(a.reshape((3, 1)))  # 위와 같음"
      ]
    },
    {
      "cell_type": "code",
      "source": [
        "print(a)\n",
        "b = np.append(a, [4,5])  # append : 요소 추가\n",
        "print(b)\n",
        "c = np.insert(a, 0, [6,7])  # insert : 삽입\n",
        "print(c)\n",
        "d = np.delete(a, 1)\n",
        "print(d)"
      ],
      "metadata": {
        "colab": {
          "base_uri": "https://localhost:8080/"
        },
        "id": "AwY9P-ogS4gY",
        "outputId": "394fec82-62a7-4c57-f738-355df50160a9"
      },
      "execution_count": 14,
      "outputs": [
        {
          "output_type": "stream",
          "name": "stdout",
          "text": [
            "[1 2 3]\n",
            "[1 2 3 4 5]\n",
            "[6 7 1 2 3]\n",
            "[1 3]\n"
          ]
        }
      ]
    },
    {
      "cell_type": "code",
      "source": [
        "aa = np.arange(1, 10).reshape(3, 3)\n",
        "print(aa)\n",
        "print(np.insert(aa, 1, 99))  # 2차원 -> 1차원 차원축소\n",
        "print()\n",
        "print(np.insert(aa, 1, 99, axis=0))  # 행 기준, axis가 존재할 때는 차원을 유지한다.\n",
        "print(np.insert(aa, 1, 99, axis=1))  # 열 기준"
      ],
      "metadata": {
        "colab": {
          "base_uri": "https://localhost:8080/"
        },
        "id": "MnqaKTCzTl8Z",
        "outputId": "59bc85bc-2277-4d51-f8fc-04453bad21f4"
      },
      "execution_count": 22,
      "outputs": [
        {
          "output_type": "stream",
          "name": "stdout",
          "text": [
            "[[1 2 3]\n",
            " [4 5 6]\n",
            " [7 8 9]]\n",
            "[ 1 99  2  3  4  5  6  7  8  9]\n",
            "\n",
            "[[ 1  2  3]\n",
            " [99 99 99]\n",
            " [ 4  5  6]\n",
            " [ 7  8  9]]\n",
            "[[ 1 99  2  3]\n",
            " [ 4 99  5  6]\n",
            " [ 7 99  8  9]]\n"
          ]
        }
      ]
    },
    {
      "cell_type": "code",
      "source": [
        "bb = np.arange(10, 19).reshape(3, 3)\n",
        "print(bb)\n",
        "cc = np.append(aa, bb)  # 배열 값 추가\n",
        "print(cc)  # axis가 없어 차원축소\n",
        "\n",
        "print()\n",
        "cc = np.append(aa, bb, axis=0)\n",
        "print(cc)\n",
        "print()\n",
        "cc = np.append(aa, bb, axis=1)\n",
        "print(cc)"
      ],
      "metadata": {
        "colab": {
          "base_uri": "https://localhost:8080/"
        },
        "id": "2qTAqT1JUnKz",
        "outputId": "b8d2f0a1-0f7a-4e0d-e2e1-8e983ec720d5"
      },
      "execution_count": 27,
      "outputs": [
        {
          "output_type": "stream",
          "name": "stdout",
          "text": [
            "[[10 11 12]\n",
            " [13 14 15]\n",
            " [16 17 18]]\n",
            "[ 1  2  3  4  5  6  7  8  9 10 11 12 13 14 15 16 17 18]\n",
            "\n",
            "[[ 1  2  3]\n",
            " [ 4  5  6]\n",
            " [ 7  8  9]\n",
            " [10 11 12]\n",
            " [13 14 15]\n",
            " [16 17 18]]\n",
            "\n",
            "[[ 1  2  3 10 11 12]\n",
            " [ 4  5  6 13 14 15]\n",
            " [ 7  8  9 16 17 18]]\n"
          ]
        }
      ]
    },
    {
      "cell_type": "code",
      "source": [
        "print(aa)\n",
        "print(np.delete(aa, 1))\n",
        "print(np.delete(aa, 1, axis=0))\n",
        "print(np.delete(aa, 1, axis=1))"
      ],
      "metadata": {
        "colab": {
          "base_uri": "https://localhost:8080/"
        },
        "id": "nD1_0XXMVO4E",
        "outputId": "a7f5d32f-fbcc-4372-d21e-0eeeb1796948"
      },
      "execution_count": 30,
      "outputs": [
        {
          "output_type": "stream",
          "name": "stdout",
          "text": [
            "[[1 2 3]\n",
            " [4 5 6]\n",
            " [7 8 9]]\n",
            "[1 3 4 5 6 7 8 9]\n",
            "[[1 2 3]\n",
            " [7 8 9]]\n",
            "[[1 3]\n",
            " [4 6]\n",
            " [7 9]]\n"
          ]
        }
      ]
    },
    {
      "cell_type": "code",
      "source": [
        "# 조건 연산 : where(조건, 참, 거짓)\n",
        "x = np.array([1,2,3])\n",
        "y = np.array([4,5,6])\n",
        "conditionData = np.array([True, False, True])\n",
        "result = np.where(conditionData, x, y)  # 참이면 x, 거짓이면 y 값을 출력\n",
        "print(result)\n",
        "\n",
        "aa = np.where(x >= 2)\n",
        "print(aa, x[aa])\n",
        "print(np.where(x >=2, 'T', 'F'))\n",
        "print(np.where(x >=2, x, x+100))\n",
        "print()\n",
        "bb = np.random.randn(4,4)  # 정규분포를 따르는 4*4 행렬\n",
        "print(bb)\n",
        "print()\n",
        "print(np.where(bb > 0, 10, bb))"
      ],
      "metadata": {
        "colab": {
          "base_uri": "https://localhost:8080/"
        },
        "id": "glW_XQmBV6vV",
        "outputId": "7eb18f4f-2050-483f-ffed-3a686aadf18e"
      },
      "execution_count": 42,
      "outputs": [
        {
          "output_type": "stream",
          "name": "stdout",
          "text": [
            "[1 5 3]\n",
            "(array([1, 2]),) [2 3]\n",
            "['F' 'T' 'T']\n",
            "[101   2   3]\n",
            "\n",
            "[[ 0.4194546  -0.76500499 -0.38698909 -1.22100145]\n",
            " [-0.16252286 -0.80426002  0.72003634 -0.76816121]\n",
            " [-0.20972293  0.43536748  0.16019883 -1.89155603]\n",
            " [ 0.70193547 -0.55315039 -1.5732689  -0.25993695]]\n",
            "\n",
            "[[10.         -0.76500499 -0.38698909 -1.22100145]\n",
            " [-0.16252286 -0.80426002 10.         -0.76816121]\n",
            " [-0.20972293 10.         10.         -1.89155603]\n",
            " [10.         -0.55315039 -1.5732689  -0.25993695]]\n"
          ]
        }
      ]
    },
    {
      "cell_type": "code",
      "source": [
        "print(x)\n",
        "print(y)\n",
        "mbc = np.concatenate([x, y])  # 배열 결합\n",
        "print(mbc)\n",
        "\n",
        "x1, x2 = np.split(mbc, 2)\n",
        "print(x1)\n",
        "print(x2)\n",
        "print()\n",
        "a = np.arange(1,17).reshape(4,4)\n",
        "print(a)\n",
        "print()\n",
        "x1, x2 = np.hsplit(a,2)\n",
        "print(x1)\n",
        "print(x2)\n",
        "print()\n",
        "x1, x2 = np.vsplit(a,2)\n",
        "print(x1)\n",
        "print(x2)"
      ],
      "metadata": {
        "colab": {
          "base_uri": "https://localhost:8080/"
        },
        "id": "3CgFwUwEbmnS",
        "outputId": "ee5a7d0a-b63c-4bc1-d588-bab27306b1e7"
      },
      "execution_count": 52,
      "outputs": [
        {
          "output_type": "stream",
          "name": "stdout",
          "text": [
            "[1 2 3]\n",
            "[4 5 6]\n",
            "[1 2 3 4 5 6]\n",
            "[1 2 3]\n",
            "[4 5 6]\n",
            "\n",
            "[[ 1  2  3  4]\n",
            " [ 5  6  7  8]\n",
            " [ 9 10 11 12]\n",
            " [13 14 15 16]]\n",
            "\n",
            "[[ 1  2]\n",
            " [ 5  6]\n",
            " [ 9 10]\n",
            " [13 14]]\n",
            "[[ 3  4]\n",
            " [ 7  8]\n",
            " [11 12]\n",
            " [15 16]]\n",
            "\n",
            "[[1 2 3 4]\n",
            " [5 6 7 8]]\n",
            "[[ 9 10 11 12]\n",
            " [13 14 15 16]]\n"
          ]
        }
      ]
    },
    {
      "cell_type": "code",
      "source": [
        "# sampline : 표본 추출\n",
        "li = np.array([1,2,3,4,5,6,7])\n",
        "\n",
        "# 복원 추출\n",
        "for _ in range(5):\n",
        "  print(li[np.random.randint(0, len(li)-1)], end = ' ')\n",
        "\n",
        "print()\n",
        "# 비복원 추출\n",
        "import random\n",
        "print(random.sample(list(li), k=5))  # 중복되지 않음\n",
        "\n",
        "print(random.sample(range(1, 46), k=6))\n",
        "\n",
        "print(list(np.random.choice(range(1, 46), 6)))  # 기본값 replace=False\n",
        "print(list(np.random.choice(range(1, 46), 6, replace=False)))  # 비복원\n",
        "print(list(np.random.choice(range(1, 46), 6, replace=True)))  # 복원(중복 허용)\n",
        "\n",
        "# 가중치를 부여한 랜덤 추출\n",
        "ar = 'air book cat desk e f god'\n",
        "ar = ar.split(sep=' ')\n",
        "print(ar)\n",
        "print(np.random.choice(ar, 3, p=[0.1,0.1,0.1,0.1,0.1,0.1,0.4]))  # god가 나올 확률이 큼"
      ],
      "metadata": {
        "colab": {
          "base_uri": "https://localhost:8080/"
        },
        "id": "9OB6NOJocwKI",
        "outputId": "f47e9376-8640-475a-a50d-f432ee862ac2"
      },
      "execution_count": 71,
      "outputs": [
        {
          "output_type": "stream",
          "name": "stdout",
          "text": [
            "4 4 5 2 3 \n",
            "[3, 1, 7, 6, 5]\n",
            "[22, 28, 41, 17, 9, 43]\n",
            "[33, 2, 15, 7, 34, 11]\n",
            "[40, 19, 44, 7, 3, 41]\n",
            "[42, 5, 7, 5, 45, 26]\n",
            "['air', 'book', 'cat', 'desk', 'e', 'f', 'god']\n",
            "['god' 'god' 'god']\n"
          ]
        }
      ]
    }
  ]
}