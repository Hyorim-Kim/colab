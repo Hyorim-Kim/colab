{
  "nbformat": 4,
  "nbformat_minor": 0,
  "metadata": {
    "colab": {
      "provenance": [],
      "authorship_tag": "ABX9TyOWd84/3S8AU/ao9JnCzts6",
      "include_colab_link": true
    },
    "kernelspec": {
      "name": "python3",
      "display_name": "Python 3"
    },
    "language_info": {
      "name": "python"
    }
  },
  "cells": [
    {
      "cell_type": "markdown",
      "metadata": {
        "id": "view-in-github",
        "colab_type": "text"
      },
      "source": [
        "<a href=\"https://colab.research.google.com/github/Hyorim-Kim/numpi/blob/main/tfc26rnn.ipynb\" target=\"_parent\"><img src=\"https://colab.research.google.com/assets/colab-badge.svg\" alt=\"Open In Colab\"/></a>"
      ]
    },
    {
      "cell_type": "code",
      "execution_count": 1,
      "metadata": {
        "id": "WHmwTo5qCjlh"
      },
      "outputs": [],
      "source": [
        "# 문자열 토큰 처리 후 LSTM으로 감성분류(?)\n",
        "from keras.preprocessing.text import Tokenizer\n",
        "import numpy as np\n",
        "from keras.models import Sequential\n",
        "from keras.layers import SimpleRNN, LSTM, Dense"
      ]
    },
    {
      "cell_type": "code",
      "source": [
        "samples = ['The cat say on the mat.', 'The dog ate my homework']\n",
        "\n",
        "token_index = {}\n",
        "for sam in samples:\n",
        "  for word in sam.split(sep=' '):\n",
        "    if word not in token_index:\n",
        "      token_index[word] = len(token_index)\n",
        "print(token_index)\n",
        "print()\n",
        "tokenizer = Tokenizer(num_words=10)\n",
        "tokenizer.fit_on_texts(samples)\n",
        "token_seq = tokenizer.texts_to_sequences(samples)  # 텍스트를 정수 인덱싱해서 리스트로 반환\n",
        "print(token_seq)\n",
        "print(tokenizer.word_index)\n",
        "print()\n",
        "token_mat = tokenizer.texts_to_matrix(samples, mode='binary')  # 'count', 'tfidf', 'freq'\n",
        "print(token_mat)  # 원핫 이진벡터 형태\n",
        "print(tokenizer.word_counts)\n",
        "print(tokenizer.document_count)\n",
        "print(tokenizer.word_docs)\n",
        "\n",
        "from keras.utils import to_categorical\n",
        "token_seq = to_categorical(token_seq[0], num_classes=6)\n",
        "print(token_seq)\n"
      ],
      "metadata": {
        "colab": {
          "base_uri": "https://localhost:8080/"
        },
        "id": "CzAiPoE6WDja",
        "outputId": "4405d6f9-6c28-431d-c851-35c98f72a35d"
      },
      "execution_count": 10,
      "outputs": [
        {
          "output_type": "stream",
          "name": "stdout",
          "text": [
            "{'The': 0, 'cat': 1, 'say': 2, 'on': 3, 'the': 4, 'mat.': 5, 'dog': 6, 'ate': 7, 'my': 8, 'homework': 9}\n",
            "\n",
            "[[1, 2, 3, 4, 1, 5], [1, 6, 7, 8, 9]]\n",
            "{'the': 1, 'cat': 2, 'say': 3, 'on': 4, 'mat': 5, 'dog': 6, 'ate': 7, 'my': 8, 'homework': 9}\n",
            "\n",
            "[[0. 1. 1. 1. 1. 1. 0. 0. 0. 0.]\n",
            " [0. 1. 0. 0. 0. 0. 1. 1. 1. 1.]]\n",
            "OrderedDict([('the', 3), ('cat', 1), ('say', 1), ('on', 1), ('mat', 1), ('dog', 1), ('ate', 1), ('my', 1), ('homework', 1)])\n",
            "2\n",
            "defaultdict(<class 'int'>, {'on': 1, 'the': 2, 'cat': 1, 'mat': 1, 'say': 1, 'dog': 1, 'homework': 1, 'ate': 1, 'my': 1})\n",
            "[[0. 1. 0. 0. 0. 0.]\n",
            " [0. 0. 1. 0. 0. 0.]\n",
            " [0. 0. 0. 1. 0. 0.]\n",
            " [0. 0. 0. 0. 1. 0.]\n",
            " [0. 1. 0. 0. 0. 0.]\n",
            " [0. 0. 0. 0. 0. 1.]]\n"
          ]
        }
      ]
    },
    {
      "cell_type": "code",
      "source": [
        "docs = ['너무 재밌네요', '최고예요', '참 잘 만든 영화예요', '추천하고 싶은 영화입니다', '한 번 더 보고싶어요',\n",
        "              '글쎄요', '별로예요', '생각보다 지루하네요', '연기가 어색해요', '재미없어요']\n",
        "labels = np.array([1,1,1,1,1,0,0,0,0,0])\n",
        "\n",
        "token = Tokenizer()\n",
        "token.fit_on_texts(docs)\n",
        "print(token.word_index)\n",
        "\n",
        "x = token.texts_to_sequences(docs)  # 토큰화\n",
        "print('정수 인덱싱된 토큰 결과:', x)\n",
        "\n",
        "from keras.utils import pad_sequences  # 서로 다른 크기의 데이터를 일정한 크기로 만듦\n",
        "from keras.layers import Embedding, Flatten\n",
        "padded_x = pad_sequences(x, 5)\n",
        "print(padded_x)\n",
        "\n",
        "word_size = len(token.word_index) + 1  # 임베딩에 입력될 단어수(토큰수)를 지정 : 가능한 토큰 수는 최대값 + 1을 준다.\n",
        "model = Sequential()\n",
        "# Embedding(가능토큰수, 벡터크기, input_length=시퀀스개수) - 워드 임베딩이란 텍스트 내의 단어들을 밀집벡터(dense vector)로 만드는 것\n",
        "# 워드 임베딩 작업을 수행하고 (number of samples, embedding word dimensionality, input_length)인 3D 텐서를 리턴한다.\n",
        "model.add(Embedding(word_size, 8, input_length=5))  # RNN layer\n",
        "model.add(LSTM(units=32, activation='tanh'))\n",
        "# model.add(Flatten())  # embedding 사용했으니 flatten 빼고해도 됨\n",
        "model.add(Dense(units=32, activation='relu'))  # Dense layer(완전연결층)\n",
        "model.add(Dense(units=1, activation='sigmoid'))\n",
        "print(model.summary())\n",
        "\n",
        "model.compile(optimizer='adam', loss='binary_crossentropy', metrics=['accuracy'])\n",
        "model.fit(padded_x, labels, epochs=20, verbose=1)\n",
        "print('eval : %.4f'%(model.evaluate(padded_x, labels)[1]))\n",
        "\n",
        "print('predict : ', np.where(model.predict(padded_x) > 0.5, 1, 0).ravel())\n",
        "print('real : ', labels)\n"
      ],
      "metadata": {
        "colab": {
          "base_uri": "https://localhost:8080/"
        },
        "id": "njvrF1QSZgJS",
        "outputId": "c61575ab-29ec-411f-cac7-039198e795af"
      },
      "execution_count": 17,
      "outputs": [
        {
          "output_type": "stream",
          "name": "stdout",
          "text": [
            "{'너무': 1, '재밌네요': 2, '최고예요': 3, '참': 4, '잘': 5, '만든': 6, '영화예요': 7, '추천하고': 8, '싶은': 9, '영화입니다': 10, '한': 11, '번': 12, '더': 13, '보고싶어요': 14, '글쎄요': 15, '별로예요': 16, '생각보다': 17, '지루하네요': 18, '연기가': 19, '어색해요': 20, '재미없어요': 21}\n",
            "정수 인덱싱된 토큰 결과: [[1, 2], [3], [4, 5, 6, 7], [8, 9, 10], [11, 12, 13, 14], [15], [16], [17, 18], [19, 20], [21]]\n",
            "[[ 0  0  0  1  2]\n",
            " [ 0  0  0  0  3]\n",
            " [ 0  4  5  6  7]\n",
            " [ 0  0  8  9 10]\n",
            " [ 0 11 12 13 14]\n",
            " [ 0  0  0  0 15]\n",
            " [ 0  0  0  0 16]\n",
            " [ 0  0  0 17 18]\n",
            " [ 0  0  0 19 20]\n",
            " [ 0  0  0  0 21]]\n",
            "Model: \"sequential_4\"\n",
            "_________________________________________________________________\n",
            " Layer (type)                Output Shape              Param #   \n",
            "=================================================================\n",
            " embedding_4 (Embedding)     (None, 5, 8)              176       \n",
            "                                                                 \n",
            " lstm_4 (LSTM)               (None, 32)                5248      \n",
            "                                                                 \n",
            " dense_8 (Dense)             (None, 32)                1056      \n",
            "                                                                 \n",
            " dense_9 (Dense)             (None, 1)                 33        \n",
            "                                                                 \n",
            "=================================================================\n",
            "Total params: 6513 (25.44 KB)\n",
            "Trainable params: 6513 (25.44 KB)\n",
            "Non-trainable params: 0 (0.00 Byte)\n",
            "_________________________________________________________________\n",
            "None\n",
            "Epoch 1/20\n",
            "1/1 [==============================] - 3s 3s/step - loss: 0.6921 - accuracy: 0.6000\n",
            "Epoch 2/20\n",
            "1/1 [==============================] - 0s 14ms/step - loss: 0.6907 - accuracy: 0.7000\n",
            "Epoch 3/20\n",
            "1/1 [==============================] - 0s 15ms/step - loss: 0.6898 - accuracy: 0.8000\n",
            "Epoch 4/20\n",
            "1/1 [==============================] - 0s 14ms/step - loss: 0.6891 - accuracy: 0.8000\n",
            "Epoch 5/20\n",
            "1/1 [==============================] - 0s 15ms/step - loss: 0.6883 - accuracy: 0.8000\n",
            "Epoch 6/20\n",
            "1/1 [==============================] - 0s 16ms/step - loss: 0.6874 - accuracy: 0.9000\n",
            "Epoch 7/20\n",
            "1/1 [==============================] - 0s 17ms/step - loss: 0.6866 - accuracy: 0.9000\n",
            "Epoch 8/20\n",
            "1/1 [==============================] - 0s 387ms/step - loss: 0.6856 - accuracy: 0.9000\n",
            "Epoch 9/20\n",
            "1/1 [==============================] - 0s 15ms/step - loss: 0.6847 - accuracy: 0.9000\n",
            "Epoch 10/20\n",
            "1/1 [==============================] - 0s 15ms/step - loss: 0.6836 - accuracy: 0.9000\n",
            "Epoch 11/20\n",
            "1/1 [==============================] - 0s 13ms/step - loss: 0.6824 - accuracy: 0.9000\n",
            "Epoch 12/20\n",
            "1/1 [==============================] - 0s 16ms/step - loss: 0.6812 - accuracy: 0.9000\n",
            "Epoch 13/20\n",
            "1/1 [==============================] - 0s 18ms/step - loss: 0.6798 - accuracy: 0.9000\n",
            "Epoch 14/20\n",
            "1/1 [==============================] - 0s 14ms/step - loss: 0.6783 - accuracy: 0.9000\n",
            "Epoch 15/20\n",
            "1/1 [==============================] - 0s 14ms/step - loss: 0.6767 - accuracy: 0.9000\n",
            "Epoch 16/20\n",
            "1/1 [==============================] - 0s 15ms/step - loss: 0.6751 - accuracy: 0.9000\n",
            "Epoch 17/20\n",
            "1/1 [==============================] - 0s 18ms/step - loss: 0.6732 - accuracy: 0.9000\n",
            "Epoch 18/20\n",
            "1/1 [==============================] - 0s 14ms/step - loss: 0.6713 - accuracy: 0.9000\n",
            "Epoch 19/20\n",
            "1/1 [==============================] - 0s 15ms/step - loss: 0.6692 - accuracy: 0.9000\n",
            "Epoch 20/20\n",
            "1/1 [==============================] - 0s 15ms/step - loss: 0.6670 - accuracy: 0.9000\n",
            "1/1 [==============================] - 1s 542ms/step - loss: 0.6646 - accuracy: 0.9000\n",
            "eval : 0.9000\n",
            "1/1 [==============================] - 0s 425ms/step\n",
            "predict :  [1 0 1 1 1 0 0 0 0 0]\n",
            "real :  [1 1 1 1 1 0 0 0 0 0]\n"
          ]
        }
      ]
    }
  ]
}