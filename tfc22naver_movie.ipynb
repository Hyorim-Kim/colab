{
  "nbformat": 4,
  "nbformat_minor": 0,
  "metadata": {
    "colab": {
      "provenance": [],
      "authorship_tag": "ABX9TyNlvt4Kl995HT3SVBO/NPSZ",
      "include_colab_link": true
    },
    "kernelspec": {
      "name": "python3",
      "display_name": "Python 3"
    },
    "language_info": {
      "name": "python"
    }
  },
  "cells": [
    {
      "cell_type": "markdown",
      "metadata": {
        "id": "view-in-github",
        "colab_type": "text"
      },
      "source": [
        "<a href=\"https://colab.research.google.com/github/Hyorim-Kim/numpi/blob/main/tfc22naver_movie.ipynb\" target=\"_parent\"><img src=\"https://colab.research.google.com/assets/colab-badge.svg\" alt=\"Open In Colab\"/></a>"
      ]
    },
    {
      "cell_type": "code",
      "execution_count": 3,
      "metadata": {
        "colab": {
          "base_uri": "https://localhost:8080/"
        },
        "id": "HIMIpU9p4LrH",
        "outputId": "866640fc-3d5d-49b8-de0a-48d5ece271a3"
      },
      "outputs": [
        {
          "output_type": "stream",
          "name": "stdout",
          "text": [
            "Requirement already satisfied: konlpy in /usr/local/lib/python3.10/dist-packages (0.6.0)\n",
            "Requirement already satisfied: JPype1>=0.7.0 in /usr/local/lib/python3.10/dist-packages (from konlpy) (1.4.1)\n",
            "Requirement already satisfied: lxml>=4.1.0 in /usr/local/lib/python3.10/dist-packages (from konlpy) (4.9.3)\n",
            "Requirement already satisfied: numpy>=1.6 in /usr/local/lib/python3.10/dist-packages (from konlpy) (1.23.5)\n",
            "Requirement already satisfied: packaging in /usr/local/lib/python3.10/dist-packages (from JPype1>=0.7.0->konlpy) (23.2)\n"
          ]
        }
      ],
      "source": [
        "# 네이버 제공 영화 리뷰 데이터를 이용해 단어 간 유사도 확인\n",
        "!pip install konlpy\n",
        "import pandas as pd\n",
        "import numpy as np\n",
        "import matplotlib.pyplot as plt\n",
        "from konlpy.tag import Okt\n",
        "from gensim.models.word2vec import Word2Vec\n",
        "import urllib.request"
      ]
    },
    {
      "cell_type": "code",
      "source": [
        "urllib.request.urlretrieve('https://raw.githubusercontent.com/pykwon/python/master/testdata_utf8/ratings_train.txt', filename='ratings.txt')\n",
        "train_data = pd.read_table('ratings.txt')\n",
        "print(train_data[:5], len(train_data))  # 150000\n",
        "print(train_data.isnull().values.any())\n",
        "print(train_data.info())\n",
        "train_data = train_data.dropna(how='any')\n",
        "print(len(train_data))  # 149995\n",
        "\n",
        "train_data['document'] = train_data['document'].str.replace(\"[^가-힣 ]\", \"\")\n",
        "print(train_data[:5])\n",
        "\n",
        "# 불용어(stop words) : 의미가 없는(분석에 영향을 주지 않는) 단어 token\n",
        "# 영문의 경우에는 nltk에 이미 불용어 사전으로 등록이 되어 있으나 한글은 매우 동적이므로 불용어 사전이 없다.\n",
        "stopwords = ['의', '가', '은', '는', '잘', '을', '를', '으로', '하여', '에', '와', '한', '하다', '앗', '아', '그래서', '에서', '했던']\n",
        "\n",
        "okt = Okt()\n",
        "tokenized_data = []\n",
        "for sen in train_data['document']:\n",
        "  temp = okt.morphs(sen, stem=True)\n",
        "  temp = [word for word in temp if not word in stopwords]\n",
        "  tokenized_data.append(temp)\n"
      ],
      "metadata": {
        "colab": {
          "base_uri": "https://localhost:8080/"
        },
        "id": "bMq1xwTT4yTo",
        "outputId": "8e45925a-4693-4e42-bd77-a1ca7a0156f3"
      },
      "execution_count": 10,
      "outputs": [
        {
          "output_type": "stream",
          "name": "stdout",
          "text": [
            "         id                                           document  label\n",
            "0   9976970                                아 더빙.. 진짜 짜증나네요 목소리      0\n",
            "1   3819312                  흠...포스터보고 초딩영화줄....오버연기조차 가볍지 않구나      1\n",
            "2  10265843                                  너무재밓었다그래서보는것을추천한다      0\n",
            "3   9045019                      교도소 이야기구먼 ..솔직히 재미는 없다..평점 조정      0\n",
            "4   6483659  사이몬페그의 익살스런 연기가 돋보였던 영화!스파이더맨에서 늙어보이기만 했던 커스틴 ...      1 150000\n",
            "True\n",
            "<class 'pandas.core.frame.DataFrame'>\n",
            "RangeIndex: 150000 entries, 0 to 149999\n",
            "Data columns (total 3 columns):\n",
            " #   Column    Non-Null Count   Dtype \n",
            "---  ------    --------------   ----- \n",
            " 0   id        150000 non-null  int64 \n",
            " 1   document  149995 non-null  object\n",
            " 2   label     150000 non-null  int64 \n",
            "dtypes: int64(2), object(1)\n",
            "memory usage: 3.4+ MB\n",
            "None\n",
            "149995\n"
          ]
        },
        {
          "output_type": "stream",
          "name": "stderr",
          "text": [
            "<ipython-input-10-941614f45467>:9: FutureWarning: The default value of regex will change from True to False in a future version.\n",
            "  train_data['document'] = train_data['document'].str.replace(\"[^가-힣 ]\", \"\")\n"
          ]
        },
        {
          "output_type": "stream",
          "name": "stdout",
          "text": [
            "         id                                           document  label\n",
            "0   9976970                                  아 더빙 진짜 짜증나네요 목소리      0\n",
            "1   3819312                         흠포스터보고 초딩영화줄오버연기조차 가볍지 않구나      1\n",
            "2  10265843                                  너무재밓었다그래서보는것을추천한다      0\n",
            "3   9045019                          교도소 이야기구먼 솔직히 재미는 없다평점 조정      0\n",
            "4   6483659  사이몬페그의 익살스런 연기가 돋보였던 영화스파이더맨에서 늙어보이기만 했던 커스틴 던...      1\n"
          ]
        }
      ]
    },
    {
      "cell_type": "code",
      "source": [
        "print('글 최대 길이 : ', max(len(i) for i in tokenized_data))\n",
        "print('글 평균 길이 : ', sum(map(len, tokenized_data)) / len(tokenized_data))\n",
        "\n",
        "plt.hist([len(i) for i in tokenized_data], bins=50)\n",
        "plt.xlabel('length')\n",
        "plt.xlabel('count')\n",
        "plt.show()"
      ],
      "metadata": {
        "colab": {
          "base_uri": "https://localhost:8080/",
          "height": 487
        },
        "id": "omjPqHLE9tza",
        "outputId": "f3496cd4-3319-4c2e-ce23-8c1564cc45ba"
      },
      "execution_count": 12,
      "outputs": [
        {
          "output_type": "stream",
          "name": "stdout",
          "text": [
            "글 최대 길이 :  71\n",
            "글 평균 길이 :  11.00478682622754\n"
          ]
        },
        {
          "output_type": "display_data",
          "data": {
            "text/plain": [
              "<Figure size 640x480 with 1 Axes>"
            ],
            "image/png": "[encoded data removed]"
          },
          "metadata": {}
        }
      ]
    },
    {
      "cell_type": "code",
      "source": [
        "model = Word2Vec(sentences=tokenized_data, vector_size=100, window=10, min_count=3, sg=0)"
      ],
      "metadata": {
        "id": "FisOZnzTC01y"
      },
      "execution_count": 14,
      "outputs": []
    },
    {
      "cell_type": "code",
      "source": [
        "print(model.wv.vectors.shape)\n",
        "print(model.wv.most_similar('서스펜스'))"
      ],
      "metadata": {
        "colab": {
          "base_uri": "https://localhost:8080/"
        },
        "id": "O0ARnXySDRzQ",
        "outputId": "3ed9dc62-1bb6-4536-8c5d-3345b3f9c3d3"
      },
      "execution_count": 20,
      "outputs": [
        {
          "output_type": "stream",
          "name": "stdout",
          "text": [
            "(19231, 100)\n",
            "[('고풍', 0.8604074716567993), ('쾌감', 0.8567922115325928), ('용두사미', 0.853040874004364), ('중세', 0.8445033431053162), ('추리', 0.8442606329917908), ('미스터리', 0.8375059366226196), ('중요', 0.8356277346611023), ('환타지', 0.8346654772758484), ('결합', 0.8334615230560303), ('어정쩡하다', 0.8317866325378418)]\n"
          ]
        }
      ]
    }
  ]
}