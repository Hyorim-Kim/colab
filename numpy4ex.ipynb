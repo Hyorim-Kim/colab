{
  "nbformat": 4,
  "nbformat_minor": 0,
  "metadata": {
    "colab": {
      "provenance": [],
      "authorship_tag": "ABX9TyOqSO3u7O8hB8kpK3amOoQx",
      "include_colab_link": true
    },
    "kernelspec": {
      "name": "python3",
      "display_name": "Python 3"
    },
    "language_info": {
      "name": "python"
    }
  },
  "cells": [
    {
      "cell_type": "markdown",
      "metadata": {
        "id": "view-in-github",
        "colab_type": "text"
      },
      "source": [
        "<a href=\"https://colab.research.google.com/github/Hyorim-Kim/numpi/blob/main/numpy4ex.ipynb\" target=\"_parent\"><img src=\"https://colab.research.google.com/assets/colab-badge.svg\" alt=\"Open In Colab\"/></a>"
      ]
    },
    {
      "cell_type": "code",
      "execution_count": 8,
      "metadata": {
        "colab": {
          "base_uri": "https://localhost:8080/"
        },
        "id": "R9stIdqcgG__",
        "outputId": "48194e41-145d-435f-81e3-52abf3a2f2a9"
      },
      "outputs": [
        {
          "output_type": "stream",
          "name": "stdout",
          "text": [
            "[[ 0.73760032 -0.34631431  0.15241539  1.736788  ]\n",
            " [ 0.08156893  0.56259044 -1.36281455  0.71346742]\n",
            " [-0.68101884  0.42047372  0.57195546  1.7515537 ]\n",
            " [-2.1366645  -0.8166155   1.71909322 -1.69741697]\n",
            " [ 2.24790533 -1.54934474 -0.25127075 -1.03299169]]\n",
            "\n",
            "1행 합계   : 2.2804893969369324\n",
            "1행 최댓값 : 1.736787995210062\n",
            "\n",
            "2행 합계   : -0.005187763451676708\n",
            "2행 최댓값 : 0.7134674187735663\n",
            "\n",
            "3행 합계   : 2.062964028611286\n",
            "3행 최댓값 : 1.7515536950048385\n",
            "\n",
            "4행 합계   : -2.9316037468142033\n",
            "4행 최댓값 : 1.7190932196151902\n",
            "\n",
            "5행 합계   : -0.5857018443399359\n",
            "5행 최댓값 : 2.2479053309861694\n",
            "\n"
          ]
        }
      ],
      "source": [
        "import numpy as np\n",
        "\n",
        "# 정규분포를 따르는 난수로 5행 4열의 배열 생성\n",
        "arr = np.random.randn(5, 4)\n",
        "print(arr)\n",
        "print()\n",
        "\n",
        "# 각 행에 대해 합계와 최댓값 계산 및 출력\n",
        "# print(np.sum(data, axis=1))\n",
        "for i in range(arr.shape[0]):\n",
        "    row_sum = np.sum(arr[i, :])\n",
        "    row_max = np.max(arr[i, :])\n",
        "\n",
        "    print(f\"{i+1}행 합계   : {row_sum}\")\n",
        "    print(f\"{i+1}행 최댓값 : {row_max}\")\n",
        "    print()"
      ]
    },
    {
      "cell_type": "code",
      "source": [
        "import numpy as np\n",
        "\n",
        "# 6행 6열의 다차원 zero 행렬 객체 생성\n",
        "arr = np.zeros((6, 6))\n",
        "\n",
        "# 조건1: 36개의 셀에 1~36까지 정수 채우기\n",
        "arr1 = np.arange(1, 37)\n",
        "arr1 = arr1.reshape(6, 6)\n",
        "arr = arr + arr1\n",
        "\n",
        "# 조건2: 2번째 행 전체 원소 출력\n",
        "row_2 = arr[1, :]\n",
        "print(\"출력 결과:\", row_2)\n",
        "\n",
        "# 조건3: 5번째 열 전체 원소 출력\n",
        "col_5 = arr[:, 4]\n",
        "print(\"출력 결과:\", col_5)\n",
        "\n",
        "# 조건4: 15~29 까지 출력\n",
        "sub_arr = arr[2:5, 2:5]\n",
        "print(\"출력 결과:\\n\", sub_arr)\n"
      ],
      "metadata": {
        "colab": {
          "base_uri": "https://localhost:8080/"
        },
        "id": "vXmr_dgPjHnK",
        "outputId": "3f200e6c-afc8-4ba9-af6c-fa008cef9c7d"
      },
      "execution_count": 21,
      "outputs": [
        {
          "output_type": "stream",
          "name": "stdout",
          "text": [
            "출력 결과: [ 7.  8.  9. 10. 11. 12.]\n",
            "출력 결과: [ 5. 11. 17. 23. 29. 35.]\n",
            "출력 결과:\n",
            " [[15. 16. 17.]\n",
            " [21. 22. 23.]\n",
            " [27. 28. 29.]]\n"
          ]
        }
      ]
    },
    {
      "cell_type": "code",
      "source": [
        "import numpy as np\n",
        "\n",
        "# 조건1: 20~100 사이의 난수 정수를 6개 발생시켜 각 행의 시작열에 난수 정수를 저장하고, 두 번째 열부터는 1씩 증가시켜 원소 저장하기\n",
        "arr = np.zeros((6, 4), dtype=float)\n",
        "start_col_values = np.random.randint(20, 101, 6)\n",
        "\n",
        "for i in range(6):\n",
        "    arr[i, 0] = start_col_values[i]\n",
        "    arr[i, 1:] = np.arange(start_col_values[i] + 1, start_col_values[i] + 4, dtype=float)\n",
        "\n",
        "# 출력 예시\n",
        "print(\"1. zero 다차원 배열 객체\\n\", arr)\n",
        "print(\"\\n2. 난수 정수 발생\\n\", \"random.randint(s, e, n)\\n\")\n",
        "print(\"\\n3. zero 다차원 배열에 난수 정수 초기화 결과. 두 번째 열부터는 1씩 증가시켜 원소 저장하기\\n\", arr)\n",
        "\n",
        "# 조건2: 첫 번째 행에 1000, 마지막 행에 6000으로 요소값 수정하기\n",
        "arr[0, :] = 1000\n",
        "arr[-1, :] = 6000\n",
        "\n",
        "# 출력 예시\n",
        "print(\"\\n4. 첫 번째 행에 1000, 마지막 행에 6000으로 수정\\n\", arr)\n"
      ],
      "metadata": {
        "colab": {
          "base_uri": "https://localhost:8080/"
        },
        "id": "b5uo8lY4mbvu",
        "outputId": "66dd3f2f-b5be-4428-ad71-28ca80859c29"
      },
      "execution_count": 27,
      "outputs": [
        {
          "output_type": "stream",
          "name": "stdout",
          "text": [
            "1. zero 다차원 배열 객체\n",
            " [[66. 67. 68. 69.]\n",
            " [45. 46. 47. 48.]\n",
            " [67. 68. 69. 70.]\n",
            " [89. 90. 91. 92.]\n",
            " [37. 38. 39. 40.]\n",
            " [90. 91. 92. 93.]]\n",
            "\n",
            "2. 난수 정수 발생\n",
            " random.randint(s, e, n)\n",
            "\n",
            "\n",
            "3. zero 다차원 배열에 난수 정수 초기화 결과. 두 번째 열부터는 1씩 증가시켜 원소 저장하기\n",
            " [[66. 67. 68. 69.]\n",
            " [45. 46. 47. 48.]\n",
            " [67. 68. 69. 70.]\n",
            " [89. 90. 91. 92.]\n",
            " [37. 38. 39. 40.]\n",
            " [90. 91. 92. 93.]]\n",
            "\n",
            "4. 첫 번째 행에 1000, 마지막 행에 6000으로 수정\n",
            " [[1000. 1000. 1000. 1000.]\n",
            " [  45.   46.   47.   48.]\n",
            " [  67.   68.   69.   70.]\n",
            " [  89.   90.   91.   92.]\n",
            " [  37.   38.   39.   40.]\n",
            " [6000. 6000. 6000. 6000.]]\n"
          ]
        }
      ]
    },
    {
      "cell_type": "code",
      "source": [
        "import numpy as np\n",
        "\n",
        "# 표준정규분포를 따르는 난수로 4행 5열의 다차원 배열 생성\n",
        "arr = np.random.randn(4, 5)\n",
        "\n",
        "# 배열 출력\n",
        "print(\"~ 4행 5열 다차원 배열 ~\\n\", arr)\n",
        "\n",
        "# 출력 결과\n",
        "print(\"\\n~ 출력 결과 ~\")\n",
        "print(\"평균 :\", np.mean(arr))\n",
        "print(\"합계 :\", np.sum(arr))\n",
        "print(\"표준편차 :\", np.std(arr))\n",
        "print(\"분산 :\", np.var(arr))\n",
        "print(\"최댓값 :\", np.max(arr))\n",
        "print(\"최솟값 :\", np.min(arr))\n",
        "print(\"1사분위 수 :\", np.percentile(arr, 25))\n",
        "print(\"2사분위 수 :\", np.percentile(arr, 50))\n",
        "print(\"3사분위 수 :\", np.percentile(arr, 75))\n",
        "print(\"요소값 누적합 :\\n\", np.cumsum(arr))\n"
      ],
      "metadata": {
        "colab": {
          "base_uri": "https://localhost:8080/"
        },
        "id": "u5J3tO8nm0eQ",
        "outputId": "7ca381b5-d874-4f41-b676-6ed2e8f5ca41"
      },
      "execution_count": 28,
      "outputs": [
        {
          "output_type": "stream",
          "name": "stdout",
          "text": [
            "~ 4행 5열 다차원 배열 ~\n",
            " [[-0.85611059 -0.28175637  1.17089901 -2.38504437  0.27650748]\n",
            " [ 1.14109888 -2.25580628 -0.62156288  1.97886396 -1.16340016]\n",
            " [-1.2370152  -1.38795895  1.35280621 -0.66180736 -1.29268404]\n",
            " [-0.30235666 -0.40664492  1.93854081  0.46378392 -0.0583247 ]]\n",
            "\n",
            "~ 출력 결과 ~\n",
            "평균 : -0.22939860955828503\n",
            "합계 : -4.587972191165701\n",
            "표준편차 : 1.2363495919307204\n",
            "분산 : 1.528560313467259\n",
            "최댓값 : 1.9788639578881035\n",
            "최솟값 : -2.3850443665380494\n",
            "1사분위 수 : -1.1818039230327544\n",
            "2사분위 수 : -0.35450079385762245\n",
            "3사분위 수 : 0.6331126572214907\n",
            "요소값 누적합 :\n",
            " [-0.85611059 -1.13786695  0.03303206 -2.3520123  -2.07550482 -0.93440594\n",
            " -3.19021222 -3.8117751  -1.83291114 -2.9963113  -4.2333265  -5.62128545\n",
            " -4.26847924 -4.9302866  -6.22297063 -6.5253273  -6.93197222 -4.99343141\n",
            " -4.5296475  -4.58797219]\n"
          ]
        }
      ]
    }
  ]
}