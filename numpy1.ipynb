{
  "nbformat": 4,
  "nbformat_minor": 0,
  "metadata": {
    "colab": {
      "provenance": [],
      "authorship_tag": "ABX9TyMMTgoyWGBiVYnJoLjUOw8D",
      "include_colab_link": true
    },
    "kernelspec": {
      "name": "python3",
      "display_name": "Python 3"
    },
    "language_info": {
      "name": "python"
    }
  },
  "cells": [
    {
      "cell_type": "markdown",
      "metadata": {
        "id": "view-in-github",
        "colab_type": "text"
      },
      "source": [
        "<a href=\"https://colab.research.google.com/github/Hyorim-Kim/numpi/blob/main/numpy1.ipynb\" target=\"_parent\"><img src=\"https://colab.research.google.com/assets/colab-badge.svg\" alt=\"Open In Colab\"/></a>"
      ]
    },
    {
      "cell_type": "code",
      "execution_count": 106,
      "metadata": {
        "id": "cQTuE8PHycor",
        "colab": {
          "base_uri": "https://localhost:8080/"
        },
        "outputId": "e8f05e6d-8e41-464a-e7fb-417fb92ff3e3"
      },
      "outputs": [
        {
          "output_type": "stream",
          "name": "stdout",
          "text": [
            "Linux 84be3b699a18 5.15.120+ #1 SMP Wed Aug 30 11:19:59 UTC 2023 x86_64 x86_64 x86_64 GNU/Linux\n",
            "DISTRIB_ID=Ubuntu\n",
            "DISTRIB_RELEASE=22.04\n",
            "DISTRIB_CODENAME=jammy\n",
            "DISTRIB_DESCRIPTION=\"Ubuntu 22.04.2 LTS\"\n",
            "PRETTY_NAME=\"Ubuntu 22.04.2 LTS\"\n",
            "NAME=\"Ubuntu\"\n",
            "VERSION_ID=\"22.04\"\n",
            "VERSION=\"22.04.2 LTS (Jammy Jellyfish)\"\n",
            "VERSION_CODENAME=jammy\n",
            "ID=ubuntu\n",
            "ID_LIKE=debian\n",
            "HOME_URL=\"https://www.ubuntu.com/\"\n",
            "SUPPORT_URL=\"https://help.ubuntu.com/\"\n",
            "BUG_REPORT_URL=\"https://bugs.launchpad.net/ubuntu/\"\n",
            "PRIVACY_POLICY_URL=\"https://www.ubuntu.com/legal/terms-and-policies/privacy-policy\"\n",
            "UBUNTU_CODENAME=jammy\n",
            "This system has been minimized by removing packages and content that are\n",
            "not required on a system that users do not log into.\n",
            "\n",
            "To restore this content, including manpages, you can run the 'unminimize'\n",
            "command. You will still need to ensure the 'man-db' package is installed.\n"
          ]
        }
      ],
      "source": [
        "!uname -a\n",
        "!cat /etc/*release\n",
        "!man"
      ]
    },
    {
      "cell_type": "code",
      "source": [
        "# 수식을 통해 결과를 얻을 수 있으나 외부 모듈을 사용하면 수식 없이 빠르게 결과를 얻을 수 있다.\n",
        "# 개념을 이해하고 함수나 메소드를 활용하자 !!!\n",
        "# 평균, 분산, 표준 편차 구하기\n",
        "\n",
        "grades = [1,3,-2,4]\n",
        "\n",
        "def grades_sum(grades):\n",
        "  tot = 0\n",
        "  for g in grades:\n",
        "    tot += g\n",
        "  return tot\n",
        "\n",
        "def grades_avg(grades):\n",
        "  tot = grades_sum(grades)\n",
        "  ave = tot / len(grades)\n",
        "  return ave\n",
        "\n",
        "def grades_variance(grades):\n",
        "  ave = grades_avg(grades)\n",
        "  vari = 0\n",
        "  for su in grades:\n",
        "    vari += (su - ave) ** 2\n",
        "  return vari / len(grades)  # 모집단으로 계산\n",
        "  #return vari / (len(grades) - 1)  # 표본집단으로 계산\n",
        "\n",
        "def grades_std(grades):\n",
        "  return grades_variance(grades) ** 0.5"
      ],
      "metadata": {
        "id": "vglKMtNazZCF"
      },
      "execution_count": 107,
      "outputs": []
    },
    {
      "cell_type": "code",
      "source": [
        "print('합은 : ', grades_sum(grades))\n",
        "print('평균은 : ', grades_avg(grades))\n",
        "print('분산은 : ', grades_variance(grades))\n",
        "print('표준편차는 : ', grades_std(grades))\n",
        "\n",
        "import numpy as np\n",
        "print('합은 : ', np.sum(grades))\n",
        "print('평균은 : ', np.mean(grades), ' ', np.average(grades))  # 둘이 다름, mean 사용하기\n",
        "print('분산은 : ', np.var(grades))\n",
        "print('표준편차는 : ', np.std(grades))"
      ],
      "metadata": {
        "colab": {
          "base_uri": "https://localhost:8080/"
        },
        "id": "9ebg68ob9cB8",
        "outputId": "41367711-5a6c-467c-9900-1c051ac26e3c"
      },
      "execution_count": 108,
      "outputs": [
        {
          "output_type": "stream",
          "name": "stdout",
          "text": [
            "합은 :  6\n",
            "평균은 :  1.5\n",
            "분산은 :  5.25\n",
            "표준편차는 :  2.29128784747792\n",
            "합은 :  6\n",
            "평균은 :  1.5   1.5\n",
            "분산은 :  5.25\n",
            "표준편차는 :  2.29128784747792\n"
          ]
        }
      ]
    },
    {
      "cell_type": "code",
      "source": [
        "# numpy 모듈(라이브러리)\n",
        "# 다차원 배열 자료구조인 ndarray, 선형대수 계산, 벡터 연산, 미적분 등을 지원\n",
        "import numpy as np\n",
        "ss = ['tom', 'oscar', 'john', 12, 12.3]  # 다양한 type의 요소\n",
        "print(ss, type(ss))  # <class 'list'>\n",
        "ss2 = np.array(ss)\n",
        "print(ss2, type(ss2))  # <class 'numpy.ndarray'>로 변환, 같은 type으로 요소값 구성. 상위 type으로 변환 int -> float -> complex -> str"
      ],
      "metadata": {
        "colab": {
          "base_uri": "https://localhost:8080/"
        },
        "id": "kzvyJmo5FEtJ",
        "outputId": "da6fb723-4e1f-4622-ea4c-69c8ba8cad85"
      },
      "execution_count": 109,
      "outputs": [
        {
          "output_type": "stream",
          "name": "stdout",
          "text": [
            "['tom', 'oscar', 'john', 12, 12.3] <class 'list'>\n",
            "['tom' 'oscar' 'john' '12' '12.3'] <class 'numpy.ndarray'>\n"
          ]
        }
      ]
    },
    {
      "cell_type": "code",
      "source": [
        "# 메모리 비교(list vs ndarray)\n",
        "# list\n",
        "li = list(range(1, 10))\n",
        "print(li)\n",
        "print(id(li[0]), id(li[1]))\n",
        "print(li * 10)\n",
        "for i in li:\n",
        "  print(i * 10, end=' ')\n",
        "\n",
        "print('\\n')\n",
        "# ndarray\n",
        "num_arr = np.array(li)\n",
        "print(num_arr)\n",
        "print(id(num_arr[0]), id(num_arr[0]))\n",
        "print(num_arr * 10)"
      ],
      "metadata": {
        "colab": {
          "base_uri": "https://localhost:8080/"
        },
        "id": "EKDGmw49G84v",
        "outputId": "3fd7a057-8b56-41da-8362-aeb49ea03a96"
      },
      "execution_count": 110,
      "outputs": [
        {
          "output_type": "stream",
          "name": "stdout",
          "text": [
            "[1, 2, 3, 4, 5, 6, 7, 8, 9]\n",
            "139837604839664 139837604839696\n",
            "[1, 2, 3, 4, 5, 6, 7, 8, 9, 1, 2, 3, 4, 5, 6, 7, 8, 9, 1, 2, 3, 4, 5, 6, 7, 8, 9, 1, 2, 3, 4, 5, 6, 7, 8, 9, 1, 2, 3, 4, 5, 6, 7, 8, 9, 1, 2, 3, 4, 5, 6, 7, 8, 9, 1, 2, 3, 4, 5, 6, 7, 8, 9, 1, 2, 3, 4, 5, 6, 7, 8, 9, 1, 2, 3, 4, 5, 6, 7, 8, 9, 1, 2, 3, 4, 5, 6, 7, 8, 9]\n",
            "10 20 30 40 50 60 70 80 90 \n",
            "\n",
            "[1 2 3 4 5 6 7 8 9]\n",
            "139836329138224 139836329138224\n",
            "[10 20 30 40 50 60 70 80 90]\n"
          ]
        }
      ]
    },
    {
      "cell_type": "code",
      "source": [
        "a = np.array([1.,2,3])  # 1차원 배열\n",
        "print(a, type(a), a.dtype, a.shape, a.size)\n",
        "print(a[0], a[2])\n",
        "a[0] = 7\n",
        "print(a)"
      ],
      "metadata": {
        "colab": {
          "base_uri": "https://localhost:8080/"
        },
        "id": "qv9kiHSDLokF",
        "outputId": "a047bc36-9e7f-4688-fe91-c8ef4d4d47f0"
      },
      "execution_count": 111,
      "outputs": [
        {
          "output_type": "stream",
          "name": "stdout",
          "text": [
            "[1. 2. 3.] <class 'numpy.ndarray'> float64 (3,) 3\n",
            "1.0 3.0\n",
            "[7. 2. 3.]\n"
          ]
        }
      ]
    },
    {
      "cell_type": "code",
      "source": [
        "b = np.array([[1,2,3], [4,5,6]], dtype='float32')  # 2차원 배열\n",
        "print(b, type(b), b.dtype, b.shape, b.size)\n",
        "print(b[0,0], b[0,2])  # 1 3 (scala가 return 됨)\n",
        "print(b[[0]])  # [[1 2 3]] (차원을 유지함)"
      ],
      "metadata": {
        "colab": {
          "base_uri": "https://localhost:8080/"
        },
        "id": "b5thiuIsMP0A",
        "outputId": "c642d894-e280-400a-cb39-2680fa08406c"
      },
      "execution_count": 112,
      "outputs": [
        {
          "output_type": "stream",
          "name": "stdout",
          "text": [
            "[[1. 2. 3.]\n",
            " [4. 5. 6.]] <class 'numpy.ndarray'> float32 (2, 3) 6\n",
            "1.0 3.0\n",
            "[[1. 2. 3.]]\n"
          ]
        }
      ]
    },
    {
      "cell_type": "code",
      "source": [
        "c = np.zeros((2, 2))  # 0으로 채우기\n",
        "print(c)\n",
        "\n",
        "d = np.ones((2, 2))  # 1로 채우기\n",
        "print(d)\n",
        "\n",
        "e = np.full((2, 2), 7)  # 특정 숫자로 채우기\n",
        "print(e)\n",
        "\n",
        "f = np.eye(3)  # 3행3렬, 정방행렬 만들어짐\n",
        "print(f)  # 주대각만 1이고 나머지가 0"
      ],
      "metadata": {
        "colab": {
          "base_uri": "https://localhost:8080/"
        },
        "id": "5ErndY1HNY6o",
        "outputId": "2dcbec4e-347f-42c0-c84f-40f048a676a6"
      },
      "execution_count": 113,
      "outputs": [
        {
          "output_type": "stream",
          "name": "stdout",
          "text": [
            "[[0. 0.]\n",
            " [0. 0.]]\n",
            "[[1. 1.]\n",
            " [1. 1.]]\n",
            "[[7 7]\n",
            " [7 7]]\n",
            "[[1. 0. 0.]\n",
            " [0. 1. 0.]\n",
            " [0. 0. 1.]]\n"
          ]
        }
      ]
    },
    {
      "cell_type": "code",
      "source": [
        "np.random.seed(0)  # 난수 고정\n",
        "print(np.random.rand(5))  # 균등분포를 따르는 난수(사각형 모양)\n",
        "print(np.random.randn(5))  # 정규분포를 따르는 난수(종모양의 좌우대칭)\n",
        "\n",
        "print(np.random.randint(10, size=6))  # 0이상 10미만의 수 6개\n",
        "print(np.random.randint(10, size=(3, 4)))  # 3행 4열, 2차원 평면\n",
        "print(np.random.randint(10, size=(3, 4, 5)))  # 3면 4행 5열, 3차원"
      ],
      "metadata": {
        "colab": {
          "base_uri": "https://localhost:8080/"
        },
        "id": "eTLOgVW0OZmu",
        "outputId": "b5b6cadc-5201-453c-aa9b-98f16ace8e81"
      },
      "execution_count": 114,
      "outputs": [
        {
          "output_type": "stream",
          "name": "stdout",
          "text": [
            "[0.5488135  0.71518937 0.60276338 0.54488318 0.4236548 ]\n",
            "[-0.84272405  1.96992445  1.26611853 -0.50587654  2.54520078]\n",
            "[5 9 8 9 4 3]\n",
            "[[0 3 5 0]\n",
            " [2 3 8 1]\n",
            " [3 3 3 7]]\n",
            "[[[0 1 9 9 0]\n",
            "  [4 7 3 2 7]\n",
            "  [2 0 0 4 5]\n",
            "  [5 6 8 4 1]]\n",
            "\n",
            " [[4 9 8 1 1]\n",
            "  [7 9 9 3 6]\n",
            "  [7 2 0 3 5]\n",
            "  [9 4 4 6 4]]\n",
            "\n",
            " [[4 3 4 4 8]\n",
            "  [4 3 7 5 5]\n",
            "  [0 1 5 9 3]\n",
            "  [0 5 0 1 2]]]\n"
          ]
        }
      ]
    },
    {
      "cell_type": "code",
      "source": [
        "# 인덱싱, 슬라이싱\n",
        "a = np.array([1,2,3,4,5])\n",
        "print(a)\n",
        "print(a[0])\n",
        "print(a[1:3])\n",
        "print(a[1:5:2])\n",
        "\n",
        "print()\n",
        "b = np.array([[1,2,3,4],[5,6,7,8],[9,10,11,12]])\n",
        "print(b)\n",
        "print(b[:])\n",
        "print(b[0,0])\n",
        "print(b[[0]])\n",
        "print(b[[0]], b[0], b[0][0])  # [[1 2 3 4]] [1 2 3 4] 1, 마지막은 0의 0번째 요소이기 때문에 scala 형태\n",
        "print(b[1:, 0:2])  # 1행부터, 0열1열 슬라이싱\n",
        "\n",
        "print()\n",
        "c = b[:2, 1:3]  # sub array, 원본은 b가 갖고있음\n",
        "print(c)\n",
        "print(c[0,0])\n",
        "c[0,0] = 99\n",
        "print(c)\n",
        "print(b)  # sub array의 값을 바꾸면 원본 값도 바뀜"
      ],
      "metadata": {
        "colab": {
          "base_uri": "https://localhost:8080/"
        },
        "id": "JUY6A8QFP5r6",
        "outputId": "d87ecdaa-73e1-4dd8-ea0a-8b49671ae869"
      },
      "execution_count": 121,
      "outputs": [
        {
          "output_type": "stream",
          "name": "stdout",
          "text": [
            "[1 2 3 4 5]\n",
            "1\n",
            "[2 3]\n",
            "[2 4]\n",
            "\n",
            "[[ 1  2  3  4]\n",
            " [ 5  6  7  8]\n",
            " [ 9 10 11 12]]\n",
            "[[ 1  2  3  4]\n",
            " [ 5  6  7  8]\n",
            " [ 9 10 11 12]]\n",
            "1\n",
            "[[1 2 3 4]]\n",
            "[[1 2 3 4]] [1 2 3 4] 1\n",
            "[[ 5  6]\n",
            " [ 9 10]]\n",
            "\n",
            "[[2 3]\n",
            " [6 7]]\n",
            "2\n",
            "[[99  3]\n",
            " [ 6  7]]\n",
            "[[ 1 99  3  4]\n",
            " [ 5  6  7  8]\n",
            " [ 9 10 11 12]]\n"
          ]
        }
      ]
    }
  ]
}