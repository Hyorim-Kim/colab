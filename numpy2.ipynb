{
  "nbformat": 4,
  "nbformat_minor": 0,
  "metadata": {
    "colab": {
      "provenance": [],
      "authorship_tag": "ABX9TyOUG9NX2YpkGR1h2APZ7nje",
      "include_colab_link": true
    },
    "kernelspec": {
      "name": "python3",
      "display_name": "Python 3"
    },
    "language_info": {
      "name": "python"
    }
  },
  "cells": [
    {
      "cell_type": "markdown",
      "metadata": {
        "id": "view-in-github",
        "colab_type": "text"
      },
      "source": [
        "<a href=\"https://colab.research.google.com/github/Hyorim-Kim/numpi/blob/main/numpy2.ipynb\" target=\"_parent\"><img src=\"https://colab.research.google.com/assets/colab-badge.svg\" alt=\"Open In Colab\"/></a>"
      ]
    },
    {
      "cell_type": "code",
      "execution_count": 9,
      "metadata": {
        "colab": {
          "base_uri": "https://localhost:8080/"
        },
        "id": "wy6PaqBKBdfn",
        "outputId": "e14145c7-3812-4c7a-a92c-5ed14a9df1d4"
      },
      "outputs": [
        {
          "output_type": "stream",
          "name": "stdout",
          "text": [
            "[[1. 2.]\n",
            " [3. 4.]] float64\n",
            "[[5. 6.]\n",
            " [7. 8.]] float32\n",
            "[[ 6.  8.]\n",
            " [10. 12.]]\n",
            "[[ 6.  8.]\n",
            " [10. 12.]]\n"
          ]
        }
      ],
      "source": [
        "# 배열 연산\n",
        "import numpy as np\n",
        "\n",
        "x = np.array([[1,2], [3,4]], dtype=np.float64)  # 명시적 형변환\n",
        "y = np.arange(5,9).reshape((2,2))\n",
        "y = y.astype(np.float32)\n",
        "print(x, x.dtype)\n",
        "print(y, y.dtype)\n",
        "\n",
        "print(x + y)  # -, *, /\n",
        "print(np.add(x, y))  # subtract, multiply, divide"
      ]
    },
    {
      "cell_type": "code",
      "source": [
        "# 참고 : 연산 속도\n",
        "big_arr = np.random.rand(1000000)\n",
        "print(big_arr)\n",
        "%timeit sum(big_arr)  # python 함수"
      ],
      "metadata": {
        "colab": {
          "base_uri": "https://localhost:8080/"
        },
        "id": "HFKnYhyQDASm",
        "outputId": "3a1cbf14-da24-464d-b6e7-121c11affda5"
      },
      "execution_count": 11,
      "outputs": [
        {
          "output_type": "stream",
          "name": "stdout",
          "text": [
            "[0.09458323 0.42581171 0.81444422 ... 0.9522743  0.17212424 0.69856833]\n",
            "116 ms ± 37 ms per loop (mean ± std. dev. of 7 runs, 10 loops each)\n"
          ]
        }
      ]
    },
    {
      "cell_type": "code",
      "source": [
        "%timeit np.sum(big_arr)  # numpy 함수(빠름)"
      ],
      "metadata": {
        "colab": {
          "base_uri": "https://localhost:8080/"
        },
        "id": "JkCbyrp9DZol",
        "outputId": "bef8bf4e-738a-4238-c52c-4f121bf761e7"
      },
      "execution_count": 13,
      "outputs": [
        {
          "output_type": "stream",
          "name": "stdout",
          "text": [
            "385 µs ± 7.66 µs per loop (mean ± std. dev. of 7 runs, 1000 loops each)\n"
          ]
        }
      ]
    },
    {
      "cell_type": "code",
      "source": [
        "# 벡터 연산 (내적)  **\n",
        "v = np.array([9,10])\n",
        "w = np.array([11,12])\n",
        "print(v * w)  # 일반 곱(외적)\n",
        "print(v.dot(w))  # 내적 *\n",
        "print(np.dot(v, w))  # 내적 *\n",
        "print(x.dot(v))  # 1*9 + 2*10    3*9 + 4*10\n",
        "print(x.dot(y))"
      ],
      "metadata": {
        "colab": {
          "base_uri": "https://localhost:8080/"
        },
        "id": "E9KXJwG_D_tM",
        "outputId": "481b6e8d-b36f-4276-c2fb-c43543a14a34"
      },
      "execution_count": 30,
      "outputs": [
        {
          "output_type": "stream",
          "name": "stdout",
          "text": [
            "[ 99 120]\n",
            "219\n",
            "219\n",
            "[29. 67.]\n",
            "[[19. 22.]\n",
            " [43. 50.]]\n"
          ]
        }
      ]
    },
    {
      "cell_type": "code",
      "source": [
        "# numpy는 연산을 위한 함수 제공\n",
        "print(np.sum(x))  # 1 2 3 4 모든 요소 합\n",
        "print(np.sum(x, axis=0))  # 열에 대한 합\n",
        "print(np.sum(x, axis=1))  # 행에 대한 합\n",
        "print(np.mean(x))  # 평균\n",
        "print(np.argmax(x))  # 최댓값의 인덱스\n",
        "print(np.sqrt(x))  # 제곱근\n",
        "print(np.cumsum(x))  # 누적값"
      ],
      "metadata": {
        "colab": {
          "base_uri": "https://localhost:8080/"
        },
        "id": "ZFjlyD97HTqy",
        "outputId": "6e819130-7274-4f34-c110-e9766b641106"
      },
      "execution_count": 24,
      "outputs": [
        {
          "output_type": "stream",
          "name": "stdout",
          "text": [
            "10.0\n",
            "[4. 6.]\n",
            "[3. 7.]\n",
            "2.5\n",
            "3\n",
            "[[1.         1.41421356]\n",
            " [1.73205081 2.        ]]\n",
            "[ 1.  3.  6. 10.]\n"
          ]
        }
      ]
    },
    {
      "cell_type": "code",
      "source": [
        "names = np.array(['tom', 'james', 'tom', 'oscar'])\n",
        "names2 = np.array(['tom', 'page', 'john'])\n",
        "print(np.unique(names))  # 중복 배제\n",
        "print(np.intersect1d(names, names2))  # 교집합\n",
        "print(np.intersect1d(names, names2, assume_unique=True))  # 중복이 배제된 배열을 가정하고 교집합을 계산\n",
        "print(np.union1d(names, names2))  # 합집합"
      ],
      "metadata": {
        "colab": {
          "base_uri": "https://localhost:8080/"
        },
        "id": "oD7FV61wItT3",
        "outputId": "2f47b61a-e551-4dba-f228-38b0ac7fe188"
      },
      "execution_count": 28,
      "outputs": [
        {
          "output_type": "stream",
          "name": "stdout",
          "text": [
            "['james' 'oscar' 'tom']\n",
            "['tom']\n",
            "['tom' 'tom']\n",
            "['james' 'john' 'oscar' 'page' 'tom']\n"
          ]
        }
      ]
    },
    {
      "cell_type": "code",
      "source": [
        "# 전치(transpose) : 행과 열의 위치를 바꿈  **\n",
        "print(x)\n",
        "print(x.T)"
      ],
      "metadata": {
        "colab": {
          "base_uri": "https://localhost:8080/"
        },
        "id": "h1Y_npP1Jh0Q",
        "outputId": "e7b678af-45df-4141-938d-5ee978586b40"
      },
      "execution_count": 31,
      "outputs": [
        {
          "output_type": "stream",
          "name": "stdout",
          "text": [
            "[[1. 2.]\n",
            " [3. 4.]]\n",
            "[[1. 3.]\n",
            " [2. 4.]]\n"
          ]
        }
      ]
    },
    {
      "cell_type": "code",
      "source": [
        "# Broadcasting : 크기가 다른 배열 간의 연산 시, 작은 배열은 큰 배열의 크기에 맞춰져 연산한다.\n",
        "# https://cafe.daum.net/flowlife/SBU0/22\n",
        "x = np.arange(1,10).reshape(3,3)\n",
        "print(x)\n",
        "print()\n",
        "y = np.array([1,0,1])\n",
        "print(y)\n",
        "z = np.empty_like(x)  # x와 유사한 배열 생성\n",
        "#print(z)\n",
        "\n",
        "print()\n",
        "for i in range(3):\n",
        "  z[i] = x[i] + y\n",
        "print(z)\n",
        "\n",
        "print()\n",
        "kbs = x + y  # Broadcasting 연산 처리가 됨\n",
        "print(kbs)\n",
        "\n",
        "print('\\n배열 자료를 파일 i/o')\n",
        "print(x)\n",
        "np.savetxt('my.txt', x)\n",
        "\n",
        "print('\\n읽을 때')\n",
        "my2 = np.loadtxt('my.txt')\n",
        "print(my2)"
      ],
      "metadata": {
        "colab": {
          "base_uri": "https://localhost:8080/"
        },
        "id": "4t5fyyHoNacn",
        "outputId": "bb67d76c-6c55-4087-d1b6-cbadfaca3a84"
      },
      "execution_count": 45,
      "outputs": [
        {
          "output_type": "stream",
          "name": "stdout",
          "text": [
            "[[1 2 3]\n",
            " [4 5 6]\n",
            " [7 8 9]]\n",
            "\n",
            "[1 0 1]\n",
            "\n",
            "[[ 2  2  4]\n",
            " [ 5  5  7]\n",
            " [ 8  8 10]]\n",
            "\n",
            "[[ 2  2  4]\n",
            " [ 5  5  7]\n",
            " [ 8  8 10]]\n",
            "\n",
            "배열 자료를 파일 i/o\n",
            "[[1 2 3]\n",
            " [4 5 6]\n",
            " [7 8 9]]\n",
            "\n",
            "읽을 때\n",
            "[[1. 2. 3.]\n",
            " [4. 5. 6.]\n",
            " [7. 8. 9.]]\n"
          ]
        }
      ]
    }
  ]
}