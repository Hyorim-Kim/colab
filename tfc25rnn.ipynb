{
  "nbformat": 4,
  "nbformat_minor": 0,
  "metadata": {
    "colab": {
      "provenance": [],
      "authorship_tag": "ABX9TyMyKQtoXT6FQDctyCuS/W99",
      "include_colab_link": true
    },
    "kernelspec": {
      "name": "python3",
      "display_name": "Python 3"
    },
    "language_info": {
      "name": "python"
    }
  },
  "cells": [
    {
      "cell_type": "markdown",
      "metadata": {
        "id": "view-in-github",
        "colab_type": "text"
      },
      "source": [
        "<a href=\"https://colab.research.google.com/github/Hyorim-Kim/numpi/blob/main/tfc25rnn.ipynb\" target=\"_parent\"><img src=\"https://colab.research.google.com/assets/colab-badge.svg\" alt=\"Open In Colab\"/></a>"
      ]
    },
    {
      "cell_type": "code",
      "execution_count": 1,
      "metadata": {
        "id": "sEOzKWH31Ozf"
      },
      "outputs": [],
      "source": [
        "# RNN(Recurrent Neural Network) - 시계열 또는 순차 데이터를 예측하는 딥러닝을 위한 신경망 아키텍처\n",
        "# RNN은 다양한 길이의 순차 데이터로 작업하고 자연 신호 분류, 언어 처리, 비디오 분석 등의 문제를 해결하는 데 특히 효과적\n",
        "import tensorflow as tf\n",
        "from keras.models import Sequential\n",
        "from keras.layers import SimpleRNN, LSTM, GRU, Dense"
      ]
    },
    {
      "cell_type": "code",
      "source": [
        "model = Sequential()\n",
        "# model.add(SimpleRNN(units=3, input_shape=(2,10)))  # Vanilla RNN(가장 단순한 형태의 RNN)\n",
        "model.add(LSTM(units=3, input_shape=(2,10)))  # SimpleRNN의 Long-Term 문제를 해결\n",
        "# model.add(GRU(units=3, input_shape=(2,10)))  # LSTM보다 단순한 구조를 가지나 성능은 우수\n",
        "print(model.summary())\n",
        "\n",
        "print()\n",
        "model = Sequential()\n",
        "model.add(LSTM(units=3, batch_input_shape=(8,2,10), return_sequences=False))  # Many-to-one\n",
        "\n",
        "print()\n",
        "model = Sequential()\n",
        "model.add(LSTM(units=3, batch_input_shape=(8,2,10), return_sequences=True))  # Many-to-many\n",
        "print(model.summary())\n"
      ],
      "metadata": {
        "colab": {
          "base_uri": "https://localhost:8080/"
        },
        "id": "PFqe66xX6BUp",
        "outputId": "55b62d46-8efd-47ae-ebe9-17394534bc4a"
      },
      "execution_count": 9,
      "outputs": [
        {
          "output_type": "stream",
          "name": "stdout",
          "text": [
            "Model: \"sequential_11\"\n",
            "_________________________________________________________________\n",
            " Layer (type)                Output Shape              Param #   \n",
            "=================================================================\n",
            " lstm_7 (LSTM)               (None, 3)                 168       \n",
            "                                                                 \n",
            "=================================================================\n",
            "Total params: 168 (672.00 Byte)\n",
            "Trainable params: 168 (672.00 Byte)\n",
            "Non-trainable params: 0 (0.00 Byte)\n",
            "_________________________________________________________________\n",
            "None\n",
            "\n",
            "\n",
            "Model: \"sequential_13\"\n",
            "_________________________________________________________________\n",
            " Layer (type)                Output Shape              Param #   \n",
            "=================================================================\n",
            " lstm_9 (LSTM)               (8, 2, 3)                 168       \n",
            "                                                                 \n",
            "=================================================================\n",
            "Total params: 168 (672.00 Byte)\n",
            "Trainable params: 168 (672.00 Byte)\n",
            "Non-trainable params: 0 (0.00 Byte)\n",
            "_________________________________________________________________\n",
            "None\n"
          ]
        }
      ]
    },
    {
      "cell_type": "code",
      "source": [
        "# 4개의 숫자가 주어지면 그 다음 숫자 예측\n",
        "import numpy as np\n",
        "\n",
        "x = []\n",
        "y = []\n",
        "for i in range(6):\n",
        "  lst = list(range(i, i+4))\n",
        "  # print(lst)\n",
        "  x.append(list(map(lambda c:[c/10], lst)))\n",
        "  y.append((i+4) / 10)\n",
        "\n",
        "x = np.array(x)\n",
        "y = np.array(y)\n",
        "# print(x)\n",
        "# print(y)\n",
        "\n",
        "model = Sequential([\n",
        "    # SimpleRNN(units=10, activation='tanh', input_shape=[4, 1]),\n",
        "    LSTM(units=10, activation='tanh', input_shape=[4, 1]),\n",
        "    Dense(1)\n",
        "])\n",
        "\n",
        "model.compile(optimizer='adam', loss='mse')\n",
        "model.summary()\n",
        "model.fit(x=x, y=y, epochs=100, verbose=0)\n",
        "print('예측값 : ', model.predict(x))\n",
        "print('실제값 : ', y)\n",
        "print()\n",
        "print(model.predict(np.array([[[-0.1], [0.8], [0.9]]])))\n"
      ],
      "metadata": {
        "colab": {
          "base_uri": "https://localhost:8080/"
        },
        "id": "HNBO5P-o9l8q",
        "outputId": "5aa36675-a7d7-4d08-a293-95fc410f1680"
      },
      "execution_count": 26,
      "outputs": [
        {
          "output_type": "stream",
          "name": "stdout",
          "text": [
            "Model: \"sequential_18\"\n",
            "_________________________________________________________________\n",
            " Layer (type)                Output Shape              Param #   \n",
            "=================================================================\n",
            " lstm_14 (LSTM)              (None, 10)                480       \n",
            "                                                                 \n",
            " dense_4 (Dense)             (None, 1)                 11        \n",
            "                                                                 \n",
            "=================================================================\n",
            "Total params: 491 (1.92 KB)\n",
            "Trainable params: 491 (1.92 KB)\n",
            "Non-trainable params: 0 (0.00 Byte)\n",
            "_________________________________________________________________\n",
            "1/1 [==============================] - 0s 380ms/step\n",
            "예측값 :  [[0.3794604 ]\n",
            " [0.41613817]\n",
            " [0.45413405]\n",
            " [0.49265164]\n",
            " [0.5310104 ]\n",
            " [0.56866056]]\n",
            "실제값 :  [0.4 0.5 0.6 0.7 0.8 0.9]\n",
            "\n",
            "1/1 [==============================] - 1s 554ms/step\n",
            "[[0.37408924]]\n"
          ]
        }
      ]
    }
  ]
}